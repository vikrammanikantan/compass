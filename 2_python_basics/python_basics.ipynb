{
 "cells": [
  {
   "cell_type": "markdown",
   "id": "0d774583",
   "metadata": {},
   "source": [
    "Author: `Vikram Manikantan` \\\n",
    "Email: <vik@arizona.edu>"
   ]
  },
  {
   "cell_type": "markdown",
   "id": "eff86b82",
   "metadata": {},
   "source": [
    "# <font size=7><u> *Python Basics*\n"
   ]
  },
  {
   "cell_type": "markdown",
   "id": "2fa25eda",
   "metadata": {},
   "source": [
    "### *Contents*\n",
    "\n",
    "1. [Introduction](#Introduction)\n",
    "1. [Print statements](#Print-Statements)\n",
    "2. [Data types](#Variables-&-Data-Types)\n",
    "3. [Math with Python](#Basic-Math)\n",
    "4. [IF statements](#Conditional-Programming-(if...else...))\n",
    "5. [Arrays](#Arrays)\n",
    "6. [Loops](#Loops)\n",
    "\n",
    "---"
   ]
  },
  {
   "cell_type": "markdown",
   "id": "3232c10f",
   "metadata": {},
   "source": [
    "## <font size=5><u>Introduction"
   ]
  },
  {
   "cell_type": "markdown",
   "id": "f6b2759a",
   "metadata": {},
   "source": [
    "Welcome to the `COMPASS` workshop! In this session, we'll be working on developing our python basics with an emphasis on hands-on work. Please feel to ask any questions in person or Piazza. \n",
    "\n",
    "Good luck!\n",
    "\n",
    "(_FYI_, these text cells are written in _markdown_. [Here](https://www.markdownguide.org/basic-syntax/) is a basic guide that I have been learning from)"
   ]
  },
  {
   "cell_type": "markdown",
   "id": "42564cdc",
   "metadata": {},
   "source": [
    "### Quick Jupyter Notebook Controls:\n",
    "1. Double click to edit a cell\n",
    "2. `Shift`+`Enter` to run the cell"
   ]
  },
  {
   "cell_type": "markdown",
   "id": "bcd549f7",
   "metadata": {},
   "source": [
    "### <u>***Daily Reminder:***\n",
    "\n",
    "1. You are *not* supposed to know and understand everything. \n",
    "\n",
    "2. These notebooks are dense and are deisgned to be a resource/reference for you as you learn to code.\n",
    "\n",
    "3. Most importantly, have fun!\n",
    "\n",
    "---"
   ]
  },
  {
   "cell_type": "markdown",
   "id": "2ff7bdab",
   "metadata": {},
   "source": [
    "## <font size=5><u>Print Statements<u>"
   ]
  },
  {
   "cell_type": "markdown",
   "id": "70e75753",
   "metadata": {},
   "source": [
    "Print statements are essential. But figuring out what you can and cannot print is not always straightforward."
   ]
  },
  {
   "cell_type": "markdown",
   "id": "ec087944",
   "metadata": {},
   "source": [
    "### *Example*"
   ]
  },
  {
   "cell_type": "code",
   "execution_count": null,
   "id": "e48355b3",
   "metadata": {},
   "outputs": [],
   "source": [
    "###\n",
    "# print the phrase: 'hello world'\n",
    "###\n",
    "\n",
    "print('hello world')"
   ]
  },
  {
   "cell_type": "markdown",
   "id": "714feacb",
   "metadata": {},
   "source": [
    "### *Questions*"
   ]
  },
  {
   "cell_type": "code",
   "execution_count": null,
   "id": "a29a3ead",
   "metadata": {},
   "outputs": [],
   "source": [
    "###\n",
    "# Q. would you expect a difference between these two statements?\n",
    "###\n",
    "\n",
    "print('2')\n",
    "print(2)"
   ]
  },
  {
   "cell_type": "code",
   "execution_count": null,
   "id": "5f52c1ea",
   "metadata": {},
   "outputs": [],
   "source": [
    "###\n",
    "# Q. what do you think is going to happen here?\n",
    "###\n",
    "\n",
    "print(2 '2')"
   ]
  },
  {
   "cell_type": "code",
   "execution_count": null,
   "id": "4c484de8",
   "metadata": {},
   "outputs": [],
   "source": [
    "###\n",
    "# fix the above statement\n",
    "###\n",
    "\n",
    "\"\"\" YOUR CODE HERE \"\"\""
   ]
  },
  {
   "cell_type": "code",
   "execution_count": null,
   "id": "ba477044",
   "metadata": {},
   "outputs": [],
   "source": [
    "###\n",
    "# Q. What goes wrong here?\n",
    "###\n",
    "\n",
    "print(ab)"
   ]
  },
  {
   "cell_type": "markdown",
   "id": "0b0c44d2",
   "metadata": {},
   "source": [
    "### *Challenges*"
   ]
  },
  {
   "cell_type": "code",
   "execution_count": null,
   "id": "7d12b588",
   "metadata": {},
   "outputs": [],
   "source": [
    "\"\"\" YOUR CODE HERE \"\"\""
   ]
  },
  {
   "cell_type": "markdown",
   "id": "39409aab",
   "metadata": {},
   "source": [
    "---\n",
    "## <font size=5><u>Variables & Data Types"
   ]
  },
  {
   "cell_type": "markdown",
   "id": "b9d7bf01",
   "metadata": {},
   "source": [
    "Writing in code allows us to **store variables**, just like in math or science class.\n",
    "\n",
    "Let's take the famous example of Newton's 2nd Law (the force equation)."
   ]
  },
  {
   "cell_type": "markdown",
   "id": "a296e5cc-fe9e-4347-b06c-0b693281cc9c",
   "metadata": {},
   "source": [
    "### *Examples*"
   ]
  },
  {
   "cell_type": "markdown",
   "id": "d2910d0e-fb82-4f17-88e1-256e01495db4",
   "metadata": {},
   "source": [
    "### *Questions*"
   ]
  },
  {
   "cell_type": "markdown",
   "id": "dab54302-cea4-4a27-ae2e-452f7ff72175",
   "metadata": {},
   "source": [
    "### *Challenges*"
   ]
  },
  {
   "cell_type": "markdown",
   "id": "baaa25c1",
   "metadata": {},
   "source": [
    "---\n",
    "## <font size=5><u>Basic Math"
   ]
  },
  {
   "cell_type": "markdown",
   "id": "d448eb58",
   "metadata": {},
   "source": []
  },
  {
   "cell_type": "code",
   "execution_count": null,
   "id": "965ae33d-b4bc-4719-afc7-b395b59a3752",
   "metadata": {},
   "outputs": [],
   "source": []
  },
  {
   "cell_type": "code",
   "execution_count": null,
   "id": "7259d319",
   "metadata": {},
   "outputs": [],
   "source": []
  },
  {
   "cell_type": "markdown",
   "id": "27310f49",
   "metadata": {},
   "source": [
    "---\n",
    "## <font size=5><u>Conditional Programming (if...else...)"
   ]
  },
  {
   "cell_type": "markdown",
   "id": "33fd509e",
   "metadata": {},
   "source": []
  },
  {
   "cell_type": "code",
   "execution_count": null,
   "id": "0aa0d00b",
   "metadata": {},
   "outputs": [],
   "source": []
  },
  {
   "cell_type": "markdown",
   "id": "9e621ee7",
   "metadata": {},
   "source": [
    "---\n",
    "## <font size=5><u>Arrays"
   ]
  },
  {
   "cell_type": "markdown",
   "id": "b7a025e2",
   "metadata": {},
   "source": [
    "An array is a collection of variables, also known as a **data structure**. Arrays are an essential structure that allows us manipulate large sets of data efficiently. "
   ]
  },
  {
   "cell_type": "markdown",
   "id": "cc8b3470",
   "metadata": {},
   "source": [
    "### Example"
   ]
  },
  {
   "cell_type": "code",
   "execution_count": null,
   "id": "d7b9fe17",
   "metadata": {},
   "outputs": [],
   "source": []
  },
  {
   "cell_type": "markdown",
   "id": "a5d562e8",
   "metadata": {},
   "source": [
    "---\n",
    "## <font size=5><u>Loops"
   ]
  },
  {
   "cell_type": "code",
   "execution_count": null,
   "id": "5cea6217",
   "metadata": {},
   "outputs": [],
   "source": []
  }
 ],
 "metadata": {
  "kernelspec": {
   "display_name": "Python 3 (ipykernel)",
   "language": "python",
   "name": "python3"
  },
  "language_info": {
   "codemirror_mode": {
    "name": "ipython",
    "version": 3
   },
   "file_extension": ".py",
   "mimetype": "text/x-python",
   "name": "python",
   "nbconvert_exporter": "python",
   "pygments_lexer": "ipython3",
   "version": "3.9.1"
  },
  "toc-autonumbering": false,
  "toc-showcode": false,
  "toc-showmarkdowntxt": false
 },
 "nbformat": 4,
 "nbformat_minor": 5
}
