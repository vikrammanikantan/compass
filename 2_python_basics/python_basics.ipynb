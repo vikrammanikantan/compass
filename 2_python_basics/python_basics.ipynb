{
 "cells": [
  {
   "cell_type": "markdown",
   "id": "0d774583",
   "metadata": {},
   "source": [
    "Author: `Vikram Manikantan` \\\n",
    "Email: <vik@arizona.edu>"
   ]
  },
  {
   "cell_type": "markdown",
   "id": "eff86b82",
   "metadata": {},
   "source": [
    "# <font size=7><u> *Python Basics*\n"
   ]
  },
  {
   "cell_type": "markdown",
   "id": "2fa25eda",
   "metadata": {},
   "source": [
    "### *Contents*\n",
    "\n",
    "1. [Introduction](#Introduction)\n",
    "1. [Print statements](#Print-Statements)\n",
    "2. [Data types](#Variables-&-Data-Types)\n",
    "3. [Math with Python](#Basic-Math)\n",
    "4. [IF statements](#Conditional-Programming-(if...else...))\n",
    "5. [Arrays](#Arrays)\n",
    "6. [Loops](#Loops)\n",
    "\n",
    "---"
   ]
  },
  {
   "cell_type": "markdown",
   "id": "3232c10f",
   "metadata": {},
   "source": [
    "## <font size=5><u>Introduction"
   ]
  },
  {
   "cell_type": "markdown",
   "id": "f6b2759a",
   "metadata": {},
   "source": [
    "Welcome to the `COMPASS` workshop! In this session, we'll be working on developing our python basics with an emphasis on hands-on work. Please feel to ask any questions in person or Piazza. \n",
    "\n",
    "Good luck!\n",
    "\n",
    "(_FYI_, these text cells are written in _markdown_. [Here](https://www.markdownguide.org/basic-syntax/) is a basic guide that I have been learning from)"
   ]
  },
  {
   "cell_type": "markdown",
   "id": "42564cdc",
   "metadata": {},
   "source": [
    "### Quick Jupyter Notebook Controls:\n",
    "1. Double click to edit a cell\n",
    "2. `Shift`+`Enter` to run the cell"
   ]
  },
  {
   "cell_type": "markdown",
   "id": "bcd549f7",
   "metadata": {},
   "source": [
    "### <u>***Daily Reminder:***\n",
    "\n",
    "1. You are *not* supposed to know and understand everything. \n",
    "\n",
    "2. These notebooks are dense and are deisgned to be a resource/reference for you as you learn to code.\n",
    "\n",
    "3. Most importantly, have fun!\n",
    "\n",
    "---"
   ]
  },
  {
   "cell_type": "markdown",
   "id": "2ff7bdab",
   "metadata": {},
   "source": [
    "## <font size=5><u>Print Statements<u>"
   ]
  },
  {
   "cell_type": "markdown",
   "id": "70e75753",
   "metadata": {},
   "source": [
    "Print statements are essential when coding. But figuring out what you can and cannot print is not always straightforward."
   ]
  },
  {
   "cell_type": "markdown",
   "id": "ec087944",
   "metadata": {},
   "source": [
    "### *Example*"
   ]
  },
  {
   "cell_type": "code",
   "execution_count": null,
   "id": "e48355b3",
   "metadata": {},
   "outputs": [],
   "source": [
    "###\n",
    "# print the phrase: 'hello world'\n",
    "###\n",
    "\n",
    "print('hello world')"
   ]
  },
  {
   "cell_type": "markdown",
   "id": "714feacb",
   "metadata": {},
   "source": [
    "### *Questions*"
   ]
  },
  {
   "cell_type": "code",
   "execution_count": null,
   "id": "a29a3ead",
   "metadata": {},
   "outputs": [],
   "source": [
    "###\n",
    "# Q. would you expect a difference between these two statements?\n",
    "###\n",
    "\n",
    "print('2')\n",
    "print(2)"
   ]
  },
  {
   "cell_type": "code",
   "execution_count": null,
   "id": "5f52c1ea",
   "metadata": {},
   "outputs": [],
   "source": [
    "###\n",
    "# Q. what do you think is going to happen here?\n",
    "###\n",
    "\n",
    "print(2 '2')"
   ]
  },
  {
   "cell_type": "code",
   "execution_count": null,
   "id": "4c484de8",
   "metadata": {},
   "outputs": [],
   "source": [
    "###\n",
    "# fix the above statement\n",
    "###\n",
    "\n",
    "\"\"\" YOUR CODE HERE \"\"\""
   ]
  },
  {
   "cell_type": "code",
   "execution_count": null,
   "id": "ba477044",
   "metadata": {},
   "outputs": [],
   "source": [
    "###\n",
    "# Q. What goes wrong here?\n",
    "###\n",
    "\n",
    "print(ab)"
   ]
  },
  {
   "cell_type": "markdown",
   "id": "39409aab",
   "metadata": {},
   "source": [
    "---\n",
    "## <font size=5><u>Variables & Data Types"
   ]
  },
  {
   "cell_type": "markdown",
   "id": "b9d7bf01",
   "metadata": {},
   "source": [
    "Writing in code allows us to **store variables**, just like in math or science class.\n",
    "\n",
    "Let's take the famous example of Newton's 2nd Law (the force equation)."
   ]
  },
  {
   "cell_type": "markdown",
   "id": "b64085de-b6f8-4a65-bacf-a3463360db00",
   "metadata": {},
   "source": [
    "<font size=3><u> What is a variable?\n",
    "    \n",
    "A variable is a value that is being stored under a certain name. For the code below, 'm' is the variable name and 10 is the value of that variable.    "
   ]
  },
  {
   "cell_type": "code",
   "execution_count": null,
   "id": "69a78f75-283f-41d3-89eb-2c77a0134414",
   "metadata": {},
   "outputs": [],
   "source": [
    "m = 10\n",
    "\n",
    "print('The variable m has value: ', m)"
   ]
  },
  {
   "cell_type": "markdown",
   "id": "bd426fde-8a5c-48a9-bb9a-0affc5398e9f",
   "metadata": {},
   "source": [
    "    \n",
    "<font size=3><u> What is a Data Type?\n",
    "    \n",
    "A *data type* helps classify the data stored within *variables*. Our data can take on many types, here are some examples you may recognize from other subjects."
   ]
  },
  {
   "cell_type": "code",
   "execution_count": null,
   "id": "bb4dadd2-c226-4722-b8b7-cd35b4f59e2a",
   "metadata": {},
   "outputs": [],
   "source": [
    "# integer, just like in math\n",
    "print(type(1))\n",
    "\n",
    "# float or double, what you might call a real number in math\n",
    "print(type(1.1))\n",
    "\n",
    "# string, any sequence of ASCII characters (including numbers)\n",
    "print(type('abc 123'))\n",
    "\n",
    "# boolean, True or False\n",
    "print(type(True))\n",
    "\n",
    "# there are many more we will get to!"
   ]
  },
  {
   "cell_type": "markdown",
   "id": "a296e5cc-fe9e-4347-b06c-0b693281cc9c",
   "metadata": {},
   "source": [
    "### *Example*"
   ]
  },
  {
   "cell_type": "code",
   "execution_count": null,
   "id": "a3104ea3-669a-416a-a196-c7067ec7979e",
   "metadata": {},
   "outputs": [],
   "source": [
    "# the mass\n",
    "m = 10\n",
    "\n",
    "# acceleration\n",
    "a = 9.81"
   ]
  },
  {
   "cell_type": "markdown",
   "id": "07cd1626-6ce8-475c-85e0-15675b64d27c",
   "metadata": {},
   "source": [
    "Now, let's calculate the force:"
   ]
  },
  {
   "cell_type": "code",
   "execution_count": null,
   "id": "e24e28b3-ee77-4ec8-9c98-6c7aa19a4ae1",
   "metadata": {},
   "outputs": [],
   "source": [
    "f = m * a\n",
    "\n",
    "print(\"The force exerted on this mass by gravity is: \", f, \"N\")"
   ]
  },
  {
   "cell_type": "markdown",
   "id": "90847d02-2e2e-46cd-9e37-c7cc86ed18f0",
   "metadata": {},
   "source": [
    "This was an example of **implicit declaration**. The *data type* of the variable was implicitly defined by python in the background. In python, you cannot meaningfully **explicitly** declare the type of a variable, but you can *suggest* what type the variable is for other who read your code. "
   ]
  },
  {
   "cell_type": "code",
   "execution_count": null,
   "id": "b82d608e-4389-4177-b2bf-dbf6b88dac64",
   "metadata": {},
   "outputs": [],
   "source": [
    "# suggesting what data type the variable should be\n",
    "m: int = 10\n",
    "\n",
    "a: int = 10\n",
    "\n",
    "print(\"m= %d; a= %d\"%(m,a))"
   ]
  },
  {
   "cell_type": "code",
   "execution_count": null,
   "id": "4eab798f-510d-4dbc-9ab2-2c3350697fa0",
   "metadata": {},
   "outputs": [],
   "source": [
    "# but even if we suggest a variable type, python will just ignore us...\n",
    "\n",
    "m: int = 10\n",
    "a: int = 9.81\n",
    "\n",
    "print(\"m= %f; a= %f\"%(m,a))\n",
    "print(\"\\nThese both printed as floats!\")"
   ]
  },
  {
   "cell_type": "code",
   "execution_count": null,
   "id": "4df68393-fb7b-4967-8017-2963915c1669",
   "metadata": {},
   "outputs": [],
   "source": [
    "# aaannnd we get the same answer for \n",
    "\n",
    "f = m * a\n",
    "\n",
    "print(\"The force exerted on this mass by gravity is: \", f, \"N\")"
   ]
  },
  {
   "cell_type": "code",
   "execution_count": null,
   "id": "5f5b3c94-e5a8-4bbc-b282-501a80eb15da",
   "metadata": {},
   "outputs": [],
   "source": [
    "# we can also figure out what type a variable is by using this 'built-in function'\n",
    "# (we'll get back to what this means later)\n",
    "\n",
    "print('The type of m is: ',type(m))\n",
    "print('The type of a is: ',type(a))\n",
    "\n",
    "print('\\nThe type of f is: ',type(f))"
   ]
  },
  {
   "cell_type": "markdown",
   "id": "da1ecb91-c389-407f-8bc7-717947d2291c",
   "metadata": {},
   "source": [
    "You will probably never use explicit declaration in Python. But if you use other languages, such as C, C++, Fortran, Java, etc., you will have to declare your varaiable type. "
   ]
  },
  {
   "cell_type": "markdown",
   "id": "baaa25c1",
   "metadata": {},
   "source": [
    "---\n",
    "## <font size=5><u>Basic Math"
   ]
  },
  {
   "cell_type": "markdown",
   "id": "d448eb58",
   "metadata": {},
   "source": [
    "Once you have variables in your back pocket, you can begin to use them to do calculations just like in a physics or astronomy class!"
   ]
  },
  {
   "cell_type": "markdown",
   "id": "fc966dc0-a16e-491a-a76c-28171a7430b0",
   "metadata": {},
   "source": [
    "### *Examples*"
   ]
  },
  {
   "cell_type": "markdown",
   "id": "00769ac0-b56a-449d-9c04-e58fbe66cec6",
   "metadata": {},
   "source": [
    "<font size=3><u> Basic Operations"
   ]
  },
  {
   "cell_type": "code",
   "execution_count": 6,
   "id": "7259d319",
   "metadata": {},
   "outputs": [
    {
     "name": "stdout",
     "output_type": "stream",
     "text": [
      "a = 3.000000, b = 2.000000\n",
      "a + b = 5\n",
      "a - b = 1\n",
      "a x b = 6\n",
      "a / b = 1.5\n",
      "a^b = 9\n",
      "a^ (1/b) = 1.7320508075688772\n"
     ]
    }
   ],
   "source": [
    "a = 3\n",
    "b = 2\n",
    "\n",
    "print('a = %f, b = %f'%(a,b))\n",
    "\n",
    "# add\n",
    "print('a + b =', a + b)\n",
    "\n",
    "# subtract\n",
    "print('a - b =', a - b)\n",
    "\n",
    "# multiply\n",
    "print('a x b =', a*b)\n",
    "\n",
    "# divide\n",
    "print('a / b =', a/b)\n",
    "\n",
    "# exponents (note, this ^ will do something else in code!)\n",
    "print('a^b =', a**b)\n",
    "\n",
    "# roots, just exponents with fractions\n",
    "print('a^ (1/b) =', a**(1/b))"
   ]
  },
  {
   "cell_type": "markdown",
   "id": "345d2eab-3a0a-4119-ac35-750a8e3d4c34",
   "metadata": {},
   "source": [
    "### *Question*"
   ]
  },
  {
   "cell_type": "markdown",
   "id": "08647d57-95b0-4786-88ad-5342fe2dde4d",
   "metadata": {},
   "source": [
    "<font size=3><u> Order of Operations\n",
    "    \n",
    "How do order of operations work in python? I am going to let you figure this one out by yourself!"
   ]
  },
  {
   "cell_type": "code",
   "execution_count": 7,
   "id": "075d6cd0-025d-4439-8225-a9af2263cfb2",
   "metadata": {},
   "outputs": [],
   "source": [
    "# some variables to get you started\n",
    "\n",
    "a = 2\n",
    "b = 3\n",
    "c = 7"
   ]
  },
  {
   "cell_type": "code",
   "execution_count": null,
   "id": "727fb15b-19b4-4543-bf68-ee112e2e4d21",
   "metadata": {},
   "outputs": [],
   "source": [
    "# have some fun :)\n",
    "\n",
    "\"\"\" YOUR CODE HERE \"\"\""
   ]
  },
  {
   "cell_type": "markdown",
   "id": "26294c7c-1890-4523-8c09-1807cb7bd6fd",
   "metadata": {},
   "source": [
    "### *Challenge*"
   ]
  },
  {
   "cell_type": "markdown",
   "id": "c9e8dfb3-d8be-43cd-9f1d-4f1f3dd6f0a1",
   "metadata": {},
   "source": [
    "Solve this quadratic equation:\n",
    "\n",
    "$$ 3x^2 + 5x + 10 = 0$$\n",
    "\n",
    "If you've forgotten (I don't blame you):\n",
    "\n",
    "$$ x = \\frac{-b \\pm \\sqrt{b^2 - 4ac}}{2a}$$\n",
    "\n",
    "Using what you have learnt about variables, types, operations and order of operations, you should be able to do this!"
   ]
  },
  {
   "cell_type": "code",
   "execution_count": null,
   "id": "f7956ddd-39a2-427d-8a85-51cbec414023",
   "metadata": {},
   "outputs": [],
   "source": [
    "\"\"\" YOUR CODE HERE \"\"\""
   ]
  },
  {
   "cell_type": "markdown",
   "id": "27310f49",
   "metadata": {},
   "source": [
    "---\n",
    "## <font size=5><u>Conditional Programming (if...else...)"
   ]
  },
  {
   "cell_type": "markdown",
   "id": "33fd509e",
   "metadata": {},
   "source": [
    "This is where programming gets fun! Everything so far could be done with a calculator. Now, we introduce **conditional programming**.\n",
    "\n",
    "The key concept is the `if... else...` statement. `if` some condition is true, then do **this**, `else` do **that**. You can also have many if statements with the command `elif` between `if` and `else`. Let's see it in practice:"
   ]
  },
  {
   "cell_type": "code",
   "execution_count": 10,
   "id": "0aa0d00b",
   "metadata": {},
   "outputs": [
    {
     "name": "stdout",
     "output_type": "stream",
     "text": [
      "Confidence is greater than 3 sigma!\n"
     ]
    }
   ],
   "source": [
    "confidence = 4\n",
    "\n",
    "# if my variable 'confidence' is greater than 3...\n",
    "\n",
    "if confidence > 3:\n",
    "    # print something positive!\n",
    "    print(\"Confidence is greater than 3 sigma!\")\n",
    "elif confidence < 3:\n",
    "    # print something negative\n",
    "    print(\"Confidence is less than 3 sigma :( \")"
   ]
  },
  {
   "cell_type": "markdown",
   "id": "e9010837-2f63-4088-96df-7457ce820313",
   "metadata": {},
   "source": [
    "This is a simple example of testing whether the confidence of some 'detection' is greater than 3 sigma. There are many other types of conditions:\n",
    "\n",
    "1. Equals: a == b\n",
    "2. Not Equals: a != b\n",
    "3. Less than: a < b\n",
    "4. Less than or equal to: a <= b\n",
    "5. Greater than: a > b\n",
    "6. Greater than or equal to: a >= b\n",
    "\n",
    "...and many more..."
   ]
  },
  {
   "cell_type": "markdown",
   "id": "24131dba-a185-4423-8bf9-7857147c9423",
   "metadata": {},
   "source": [
    "### *Question*"
   ]
  },
  {
   "cell_type": "markdown",
   "id": "1a050cd1-9170-4264-82f6-4b0db1fd58ca",
   "metadata": {},
   "source": [
    "What happens if you set confidence=3? Why is it happening?"
   ]
  },
  {
   "cell_type": "code",
   "execution_count": 12,
   "id": "dc240934-33c5-40ec-9821-f4cf6a9fdd74",
   "metadata": {},
   "outputs": [
    {
     "name": "stdout",
     "output_type": "stream",
     "text": [
      "Confidence is greater than 3 sigma!\n"
     ]
    }
   ],
   "source": [
    "confidence = 3\n",
    "\n",
    "# if my variable 'confidence' is greater than 3...\n",
    "\n",
    "if confidence > 3:\n",
    "    # print something positive!\n",
    "    print(\"Confidence is greater than 3 sigma!\")\n",
    "\n",
    "# if my confidence is less than 3\n",
    "elif confidence < 3:\n",
    "    # print something negative\n",
    "    print(\"Confidence is less than 3 sigma :( \")"
   ]
  },
  {
   "cell_type": "markdown",
   "id": "a323210c-4a7b-4686-bdde-fc2e84e818ca",
   "metadata": {},
   "source": [
    "How would you fix the code?"
   ]
  },
  {
   "cell_type": "code",
   "execution_count": null,
   "id": "98c8b09d-4077-428e-a44c-4ca282400a7b",
   "metadata": {},
   "outputs": [],
   "source": [
    "confidence = 3\n",
    "\n",
    "# if my variable 'confidence' is greater than 3...\n",
    "\n",
    "\"\"\" FIX THE CODE BELOW\"\"\"\n",
    "\n",
    "if confidence > 3:\n",
    "    # print something positive!\n",
    "    print(\"Confidence is greater than 3 sigma!\")\n",
    "\n",
    "# if my confidence is less than 3\n",
    "elif confidence < 3:\n",
    "    # print something negative\n",
    "    print(\"Confidence is less than 3 sigma :( \")"
   ]
  },
  {
   "cell_type": "markdown",
   "id": "e84edadd-dd0b-49b8-a640-35530ef4f6dc",
   "metadata": {},
   "source": [
    "### *Challenges*"
   ]
  },
  {
   "cell_type": "markdown",
   "id": "d4da957b-cda7-48d6-9e9f-9e83d17e2d6e",
   "metadata": {},
   "source": [
    "You might notice that the solution to the quadratic equation [before](#Challenge) is not valid for certain values of a, b and c. Write an `if` statement that catches this error and `print` an error message."
   ]
  },
  {
   "cell_type": "code",
   "execution_count": null,
   "id": "86ebb0d4-07ff-43de-8ee7-ae245e089fcf",
   "metadata": {},
   "outputs": [],
   "source": [
    "\"\"\" YOUR CODE HERE \"\"\"\n",
    "\n",
    "a =\n",
    "b = \n",
    "c = \n"
   ]
  },
  {
   "cell_type": "markdown",
   "id": "9e621ee7",
   "metadata": {},
   "source": [
    "---\n",
    "## <font size=5><u>Arrays and Lists"
   ]
  },
  {
   "cell_type": "markdown",
   "id": "b7a025e2",
   "metadata": {},
   "source": [
    "An array/list is a collection of variables, also known as a **data structure**. Arrays/lists are an essential structure that allows us manipulate large sets of data together. "
   ]
  },
  {
   "cell_type": "markdown",
   "id": "32e5bedd-c9b8-4559-8f2a-40bf92589fda",
   "metadata": {},
   "source": [
    "**IMPORTANT:** The difference between Lists and Arrays (in python) is that a List can store many different data types while arrays can only store *one* data type."
   ]
  },
  {
   "cell_type": "markdown",
   "id": "cc8b3470",
   "metadata": {},
   "source": [
    "### Example"
   ]
  },
  {
   "cell_type": "markdown",
   "id": "144abed4-2a69-44c0-bacb-1c423fa87aa7",
   "metadata": {},
   "source": [
    "Here is an list of strings that contain my favorite black holes."
   ]
  },
  {
   "cell_type": "code",
   "execution_count": 13,
   "id": "d7b9fe17",
   "metadata": {},
   "outputs": [],
   "source": [
    "my_favourite_black_holes = [\"M87\", \"Sagittarius A*\", \"OJ 287\"]"
   ]
  },
  {
   "cell_type": "markdown",
   "id": "ec18ebd9-8e1d-41e9-a886-491d3e3b34cf",
   "metadata": {},
   "source": [
    "I can access these names as such:"
   ]
  },
  {
   "cell_type": "code",
   "execution_count": 16,
   "id": "92f032dc-c98e-4428-a594-eadbcc83f086",
   "metadata": {},
   "outputs": [
    {
     "name": "stdout",
     "output_type": "stream",
     "text": [
      "The first black hole in my array is:  M87\n"
     ]
    }
   ],
   "source": [
    "bh1 = my_favourite_black_holes[0]\n",
    "print('The first black hole in my array is: ', bh1)"
   ]
  },
  {
   "cell_type": "markdown",
   "id": "c0db820a-edde-4ff2-90b9-af0d7208a091",
   "metadata": {},
   "source": [
    "**Notice** that the counter starts at 0. This is common practice for most coding languages. "
   ]
  },
  {
   "cell_type": "code",
   "execution_count": 17,
   "id": "8f3cf345-002d-4c81-be64-8528b0147f39",
   "metadata": {},
   "outputs": [
    {
     "name": "stdout",
     "output_type": "stream",
     "text": [
      "My other favorite black holes are: Sagittarius A* and OJ 287\n"
     ]
    }
   ],
   "source": [
    "bh2 = my_favourite_black_holes[1]\n",
    "bh3 = my_favourite_black_holes[2]\n",
    "\n",
    "print('My other favorite black holes are: %s and %s' %(bh2,bh3))"
   ]
  },
  {
   "cell_type": "markdown",
   "id": "bfdc44eb-86ed-4bb7-ab6a-8c0282dd5146",
   "metadata": {},
   "source": [
    "Arrays are not a default python type, so we'll take a look at them tomorrow when we go over `numpy` and `matplotlib`."
   ]
  },
  {
   "cell_type": "markdown",
   "id": "d219a898-4bac-48ab-b531-56c838b8b51d",
   "metadata": {},
   "source": [
    "---"
   ]
  },
  {
   "cell_type": "markdown",
   "id": "f8f5f446-7ea7-478b-a9c9-df3e4767c0b8",
   "metadata": {},
   "source": [
    "If you haven't yet, you should get up and walk around for a little bit. I'll wait..."
   ]
  },
  {
   "cell_type": "markdown",
   "id": "954a59cb-d501-45e6-aaf1-5bb359a4b770",
   "metadata": {},
   "source": [
    "## <font size=5><u>Loops"
   ]
  },
  {
   "cell_type": "markdown",
   "id": "107f6564-4cd5-4bb7-9daf-c0e7c22c0154",
   "metadata": {},
   "source": [
    "The last section of our Python Basics lesson! Give yourself a pat on the back if you made it this far. I barely did and I'm the one writing this!\n",
    "\n",
    "Loops are my **most** useful tool when coding. They allow you to repeat a block of code while changing one or more variables within that code. For example, if we wanted to look at the contents of an array without writing a billion print statements!"
   ]
  },
  {
   "cell_type": "markdown",
   "id": "6b9757c8-c9fd-4a25-88f5-62f876e590a5",
   "metadata": {},
   "source": [
    "The syntax for the most common loop is: `for` some iteration, do **this** code. For example:"
   ]
  },
  {
   "cell_type": "code",
   "execution_count": 21,
   "id": "cc5b76ae-3fb3-4e03-82d4-a3b64aaa70ab",
   "metadata": {},
   "outputs": [
    {
     "name": "stdout",
     "output_type": "stream",
     "text": [
      "M87\n",
      "Sagittarius A*\n",
      "OJ 287\n"
     ]
    }
   ],
   "source": [
    "# bringing back our favorite black holes\n",
    "my_favourite_black_holes = [\"M87\", \"Sagittarius A*\", \"OJ 287\"]\n",
    "\n",
    "# finding how many elements are in this list\n",
    "num = len(my_favourite_black_holes)\n",
    "\n",
    "for i in range(num):\n",
    "    print(my_favourite_black_holes[i])\n"
   ]
  },
  {
   "cell_type": "markdown",
   "id": "b9edff50-5ad2-489d-ac2e-076401bf7ca2",
   "metadata": {},
   "source": [
    "Alternatively, python has a very simple framework for iterating through lists:"
   ]
  },
  {
   "cell_type": "code",
   "execution_count": 22,
   "id": "7d262067-ae5f-422e-a083-6d9ecc107ead",
   "metadata": {},
   "outputs": [
    {
     "name": "stdout",
     "output_type": "stream",
     "text": [
      "M87\n",
      "Sagittarius A*\n",
      "OJ 287\n"
     ]
    }
   ],
   "source": [
    "for bh in my_favourite_black_holes:\n",
    "    print(bh)"
   ]
  },
  {
   "cell_type": "markdown",
   "id": "ac847462-9127-41c7-868d-de35c64b68c3",
   "metadata": {},
   "source": [
    "You can read more about `for` loops [here](https://www.w3schools.com/python/python_for_loops.asp). There is another type of loop called the `while` loop, which you can also read about [here](https://www.w3schools.com/python/python_while_loops.asp)"
   ]
  },
  {
   "cell_type": "markdown",
   "id": "92072ba7-ae3b-4339-92a4-b4591a53566b",
   "metadata": {},
   "source": [
    "---"
   ]
  },
  {
   "cell_type": "markdown",
   "id": "78e0e6a2-2535-498f-a699-28892a488420",
   "metadata": {},
   "source": [
    "### *Functions*"
   ]
  },
  {
   "cell_type": "markdown",
   "id": "7ee50ddd-49b4-4676-bdc5-cd2663a33b6b",
   "metadata": {},
   "source": [
    "Functions are blocks of code that we can separate, label, and call when asked for. Let's take the example of a linear equation and define a function. Instead of copying the code again and again, we can save it and use it later. Like this:"
   ]
  },
  {
   "cell_type": "code",
   "execution_count": 23,
   "id": "79e75d72-ac03-4f85-a0d9-d33cf94dab9b",
   "metadata": {},
   "outputs": [],
   "source": [
    "\"\"\"\n",
    "Use `def` to define the name of the function\n",
    "`linear_solver` is the name of the function\n",
    "(a, b) are arguments we pass to the function\n",
    "\n",
    "and then, we use `return` to send a value back to whoever called the function.\n",
    "\"\"\"\n",
    "\n",
    "def linear_solver(a, b):\n",
    "    x = -b/a\n",
    "    return x"
   ]
  },
  {
   "cell_type": "code",
   "execution_count": 25,
   "id": "3fd9cce5-07b5-4fe9-b4a0-d49527f1f679",
   "metadata": {},
   "outputs": [
    {
     "name": "stdout",
     "output_type": "stream",
     "text": [
      "-1.6666666666666667\n",
      "0.5\n"
     ]
    }
   ],
   "source": [
    "# for a linear equation of the form: 3 x + 5 = 0, we can solve it by solving for x.\n",
    "print(linear_solver(3, 5))\n",
    "\n",
    "# and we can keep using it, over and over again.\n",
    "print(linear_solver(8, -4))"
   ]
  },
  {
   "cell_type": "markdown",
   "id": "df11be54-cc37-4108-98e7-b1a34dd04650",
   "metadata": {},
   "source": [
    "## End of Lesson Challenge!"
   ]
  },
  {
   "cell_type": "markdown",
   "id": "f52cbfb4-929e-433b-a441-10f8e42b250f",
   "metadata": {},
   "source": [
    "1. Define a function that solves for the quadratic equation\n",
    "2. Include the if statement that checks for the validity of the solution\n",
    "3. Call the function, solving an equation of your choosing."
   ]
  }
 ],
 "metadata": {
  "kernelspec": {
   "display_name": "Python 3 (ipykernel)",
   "language": "python",
   "name": "python3"
  },
  "language_info": {
   "codemirror_mode": {
    "name": "ipython",
    "version": 3
   },
   "file_extension": ".py",
   "mimetype": "text/x-python",
   "name": "python",
   "nbconvert_exporter": "python",
   "pygments_lexer": "ipython3",
   "version": "3.9.1"
  },
  "toc-autonumbering": false,
  "toc-showcode": false,
  "toc-showmarkdowntxt": false
 },
 "nbformat": 4,
 "nbformat_minor": 5
}
