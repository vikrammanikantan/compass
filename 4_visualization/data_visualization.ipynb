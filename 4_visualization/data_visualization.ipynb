{
 "cells": [
  {
   "cell_type": "markdown",
   "id": "09f2fc30",
   "metadata": {},
   "source": [
    "Author: `Vikram Manikantan` \\\n",
    "Email: <vik@arizona.edu>"
   ]
  },
  {
   "cell_type": "markdown",
   "id": "c879ec7b",
   "metadata": {},
   "source": [
    "# <font size=7> <u> *Data Visualization*\n",
    "\n",
    "**Using `numpy` and `matplotlib`**"
   ]
  },
  {
   "cell_type": "markdown",
   "id": "d0cffc6e",
   "metadata": {},
   "source": [
    "### <u>*Contents*</u>\n",
    "\n",
    "0. [Documentation](#Documentation)\n",
    "1. [Python Packages](#Python-Packages)\n",
    "2. [`Numpy`](#Numpy): \\\n",
    "    a. [Basic Functions](#Basic-Functions) \\\n",
    "    b. [Arrays and Lists](#Arrays-vs-Lists) \\\n",
    "    c. [Arrays and Functions Together](#Arrays-and-Functions-Together)\n",
    "3. [`Matplotlib`](#Matplotlib): \\\n",
    "    a. [Plotting](#Plotting) \\\n",
    "    b. [Adding Text](#Adding-Text-to-Plots)\n",
    "    c. [Colors and Style](#Colors-and-Style)\n",
    "4. [Generating Array Data](#Generating-Data)\n",
    "5. [End of Day Challenge](#End-of-Day-Challenge)\n",
    "\n",
    "---"
   ]
  },
  {
   "cell_type": "markdown",
   "id": "ae412a0f",
   "metadata": {},
   "source": [
    "\n",
    "## Python Packages"
   ]
  },
  {
   "cell_type": "markdown",
   "id": "9c0c9d38",
   "metadata": {},
   "source": [
    "`Numpy` and `Matplotlib` are python packages. A python package is a library of code written by somebody else that will make your life easier (usually). \n",
    "\n",
    "In this case, Numpy (pronounced num-pie) is a package that provides support for large arrays and high level mathematical functions (amongst other things).\n",
    "\n",
    "Matplotlib, as you might have deduced from its name, is a library for data visualization with *lots* of functionality."
   ]
  },
  {
   "cell_type": "code",
   "execution_count": null,
   "id": "3733dc45-2673-4397-ba4b-f362e6fc0bee",
   "metadata": {},
   "outputs": [],
   "source": [
    "# to be able to use these functions, we have to use the code below.\n",
    "\n",
    "import numpy as np\n",
    "import matplotlib.pyplot as plt"
   ]
  },
  {
   "cell_type": "markdown",
   "id": "f3bb6c11-8315-4fee-8243-40f149417a7e",
   "metadata": {},
   "source": [
    "1. `import` is the keyword used to tell your code that you are using a package.\n",
    "2. then comes the name of the package\n",
    "3. `as` allows you to rename your package, meaning you don't have to type the whole package name everytime\n",
    "4. then comes the new name you want to give it (temporarily)\n",
    "\n"
   ]
  },
  {
   "cell_type": "markdown",
   "id": "32bcd7a7-141f-4068-929e-4cab3cd65444",
   "metadata": {
    "tags": []
   },
   "source": [
    "---"
   ]
  },
  {
   "cell_type": "markdown",
   "id": "a1ea9b1b-d6d3-4f08-9dcf-247a1f26489e",
   "metadata": {
    "tags": []
   },
   "source": [
    "## Documentation"
   ]
  },
  {
   "cell_type": "markdown",
   "id": "3302fe87-056b-48a4-8376-59f11e1e8a45",
   "metadata": {},
   "source": [
    "You are **not** going to remember every function. In fact, I barely remember any. Google is your best friend (with minor trust issues). \n",
    "\n",
    "If you want to look one up, just google 'package + function name' and you will get some instructions on how to use it. Let's look at one together: [Numpy sine](https://numpy.org/doc/stable/reference/generated/numpy.sin.html)."
   ]
  },
  {
   "cell_type": "markdown",
   "id": "db4b2f26-f616-4002-8e4c-b879d0de5cfa",
   "metadata": {},
   "source": [
    "Alternatively, we can type `help()` and the function name (or variable or anything) in the parentheses and python will give us its documentation."
   ]
  },
  {
   "cell_type": "code",
   "execution_count": null,
   "id": "43494d36-c2b3-40ee-879a-59e22a940b24",
   "metadata": {
    "tags": []
   },
   "outputs": [],
   "source": [
    "import numpy as np\n",
    "import matplotlib.pyplot as plt"
   ]
  },
  {
   "cell_type": "code",
   "execution_count": null,
   "id": "f8a1bc34-11e1-43b4-b9dc-e78590d9ca82",
   "metadata": {},
   "outputs": [],
   "source": [
    "help(np.sin)"
   ]
  },
  {
   "cell_type": "code",
   "execution_count": null,
   "id": "af036f8e-0126-40ca-8482-d68bace606fb",
   "metadata": {},
   "outputs": [],
   "source": [
    "# you can even put in a number! Python will realize it is of type float and tell you all about floats\n",
    "\n",
    "help(3.14)"
   ]
  },
  {
   "cell_type": "markdown",
   "id": "0b2a0d32",
   "metadata": {},
   "source": [
    "---\n",
    "# Numpy"
   ]
  },
  {
   "cell_type": "markdown",
   "id": "8f09cf6e-6a74-4710-8611-3cc6c929940f",
   "metadata": {
    "tags": []
   },
   "source": [
    "## <font size=5><u>Basic Functions"
   ]
  },
  {
   "cell_type": "markdown",
   "id": "88b02088",
   "metadata": {},
   "source": [
    "Let's start with some basic functions. You can find a full [guide here](https://numpy.org/doc/stable/user/absolute_beginners.html)."
   ]
  },
  {
   "cell_type": "code",
   "execution_count": null,
   "id": "b31e3245-f1e8-422a-89ad-bdb9f356e638",
   "metadata": {},
   "outputs": [],
   "source": [
    "# we also have the basic math functions\n",
    "\n",
    "sin1 = np.sin(3.1415)\n",
    "\n",
    "print(\"sin(π) =\", sin1)"
   ]
  },
  {
   "cell_type": "code",
   "execution_count": null,
   "id": "880a096f-99ee-4ef9-b1ae-697444f6b584",
   "metadata": {},
   "outputs": [],
   "source": [
    "# numpy also has constants\n",
    "\n",
    "pi = np.pi\n",
    "sin2 = np.sin(pi)\n",
    "cos2 = np.cos(pi)\n",
    "\n",
    "print(\"sin(π) =\", sin2)\n",
    "print(\"cos(π) =\",cos2)"
   ]
  },
  {
   "cell_type": "markdown",
   "id": "2c67b8ee-b2f0-4d2d-8a50-05d88a0114a2",
   "metadata": {
    "tags": []
   },
   "source": [
    "### *Challenge*"
   ]
  },
  {
   "cell_type": "markdown",
   "id": "65a73979-65df-4771-ab1a-ddd60da32eee",
   "metadata": {},
   "source": [
    "Find a `Numpy` *function* and *constant* of your choosing and use them to calculate something. As always, it's easiest to draw from physical scenarios: is there an equation you've used in math or physics that needs a special function? \n",
    "\n",
    "Here is a [list of Numpy math functions](https://numpy.org/doc/stable/reference/routines.math.html) and [some of the constants they have](https://numpy.org/doc/stable/reference/constants.html)."
   ]
  },
  {
   "cell_type": "code",
   "execution_count": null,
   "id": "1694b0e2-994d-4771-b705-4d63aa5c576c",
   "metadata": {},
   "outputs": [],
   "source": [
    "\"\"\" YOUR CODE HERE \"\"\""
   ]
  },
  {
   "cell_type": "markdown",
   "id": "e8b06f2b-5958-4a25-880f-2003e2161b3e",
   "metadata": {},
   "source": [
    "## <font size=5><u>Arrays vs Lists"
   ]
  },
  {
   "cell_type": "markdown",
   "id": "199d35e6-af93-42cc-8e4d-0149ffe499dd",
   "metadata": {},
   "source": [
    "Arrays are the most important concept in my experience. See below for an example:"
   ]
  },
  {
   "cell_type": "code",
   "execution_count": null,
   "id": "71ef3d45-7b66-40ba-abeb-bc6e55ec975b",
   "metadata": {},
   "outputs": [],
   "source": [
    "# the most important function, instead of lists, we can now use\n",
    "\n",
    "arr = np.array([0,1,2,3,4])"
   ]
  },
  {
   "cell_type": "code",
   "execution_count": null,
   "id": "9d4eaf34-ca2a-4ffb-8f30-4a22c6f1ca38",
   "metadata": {},
   "outputs": [],
   "source": [
    "print(arr)\n",
    "\n",
    "print(arr[0])\n",
    "\n",
    "print(arr[-1])"
   ]
  },
  {
   "cell_type": "markdown",
   "id": "cacb5fdc-10d6-4412-a91b-975540cea1c8",
   "metadata": {},
   "source": [
    "But, everything we have done so far, we could've done with lists:"
   ]
  },
  {
   "cell_type": "code",
   "execution_count": null,
   "id": "7506c886-ccd1-40ee-9116-f770c23274cb",
   "metadata": {},
   "outputs": [],
   "source": [
    "lst = [0, 1, 2, 3, 4]\n",
    "\n",
    "print(lst)\n",
    "\n",
    "print(lst[0])\n",
    "\n",
    "print(lst[-1])"
   ]
  },
  {
   "cell_type": "markdown",
   "id": "3f47704b-e7ae-4d10-8733-2a73eeb08083",
   "metadata": {},
   "source": [
    "### *Array Arithmetic*"
   ]
  },
  {
   "cell_type": "markdown",
   "id": "3f3a23cc-234f-448a-8663-e85f033b1c91",
   "metadata": {},
   "source": [
    "Arrays are better than lists for one great reason: **array arithmetic**."
   ]
  },
  {
   "cell_type": "code",
   "execution_count": null,
   "id": "6740a353-662d-401d-8671-4730b2580c08",
   "metadata": {},
   "outputs": [],
   "source": [
    "print(\"Array Arithmetic: \", arr*5)\n",
    "\n",
    "print(\"\\nList Arithmetic: \", lst*5)"
   ]
  },
  {
   "cell_type": "markdown",
   "id": "7700e508-e052-435b-9422-76161d315b85",
   "metadata": {},
   "source": [
    "^^ what is even happening to the list? It's complicated."
   ]
  },
  {
   "cell_type": "code",
   "execution_count": null,
   "id": "293af201-ea1d-4848-ae1a-7b3ded735d0c",
   "metadata": {},
   "outputs": [],
   "source": [
    "print(\"Array Arithmetic: \", arr/5)\n",
    "\n",
    "print(\"List Arithmetic: \", lst/5)"
   ]
  },
  {
   "cell_type": "markdown",
   "id": "f035e3e4-b66b-40ef-a185-892d356b8115",
   "metadata": {},
   "source": [
    "Arrays are clearly much more suited for our purposes than Lists. When in doubt, use arrays."
   ]
  },
  {
   "cell_type": "markdown",
   "id": "6bf5afab-6097-4301-a142-b729f2810aa8",
   "metadata": {},
   "source": [
    "## <font size=5><u>Arrays and Functions Together"
   ]
  },
  {
   "cell_type": "markdown",
   "id": "a1732f3e-968e-461f-8d62-eaca7a2a12d1",
   "metadata": {},
   "source": [
    "The other cool thing about `Numpy` arrays is that we can send them to `Numpy` functions and it will return an entire array that has been operated on! Let's see with a simple example."
   ]
  },
  {
   "cell_type": "code",
   "execution_count": null,
   "id": "3511a5a2-59ca-4d63-ae69-2c2055c2b2c4",
   "metadata": {},
   "outputs": [],
   "source": [
    "# create a numpy array\n",
    "\n",
    "tens = np.array([1, 10, 100, 1000, 1e4, 1e5, 1e6])\n",
    "\n",
    "logtens = np.log10(tens)"
   ]
  },
  {
   "cell_type": "code",
   "execution_count": null,
   "id": "22fe0e6c-70de-4ff2-ad22-6c2b6b0b8480",
   "metadata": {},
   "outputs": [],
   "source": [
    "print(\"Powers of 10: \", tens)"
   ]
  },
  {
   "cell_type": "code",
   "execution_count": null,
   "id": "b39a7a81-c4da-4016-834c-40fd4ca372fa",
   "metadata": {},
   "outputs": [],
   "source": [
    "print(\"Logarithm of Powers of 10: \", logtens)"
   ]
  },
  {
   "cell_type": "markdown",
   "id": "12a918d9-500b-4f82-a633-9a147e0c4319",
   "metadata": {},
   "source": [
    "I chose the example above because it is easy to verify by inspection. When we have the ability to plot our functions on a graph, we can do much cooler things!"
   ]
  },
  {
   "cell_type": "markdown",
   "id": "f1731bf6-98ec-47f2-80db-95bc8e72185e",
   "metadata": {},
   "source": [
    "---\n",
    "# Matplotlib"
   ]
  },
  {
   "cell_type": "markdown",
   "id": "d234176d-2d3b-49b9-955d-f31b6854fa45",
   "metadata": {},
   "source": [
    "## <font size=5><u>Plotting"
   ]
  },
  {
   "cell_type": "code",
   "execution_count": null,
   "id": "f4345be0-d79e-476c-b104-2d950097b6c0",
   "metadata": {},
   "outputs": [],
   "source": [
    "# as before, let's make sure we've imported the relevant packages\n",
    "# doing this many times is not going to hurt us\n",
    "\n",
    "import numpy as np\n",
    "import matplotlib.pyplot as plt\n",
    "\n",
    "%matplotlib inline"
   ]
  },
  {
   "cell_type": "markdown",
   "id": "75740187-dcbb-4707-bbaa-ab38b22c4ef2",
   "metadata": {},
   "source": [
    "Using `matplotlib`'s `pyplot` sub-package, we can do all our data visualization"
   ]
  },
  {
   "cell_type": "markdown",
   "id": "910d0bbd-dab9-4c45-8857-a0e7dcc13848",
   "metadata": {},
   "source": [
    "### *Creating the Graph*"
   ]
  },
  {
   "cell_type": "code",
   "execution_count": null,
   "id": "dcb8bb78-9a04-4811-a6f4-4cdaf833f188",
   "metadata": {},
   "outputs": [],
   "source": [
    "# plt is now the variable we are going to use to call all our plotting functions\n",
    "\n",
    "# calling subplots() creates a figure and axes object and assigns it to fig, ax variables we have decided.\n",
    "fig, ax = plt.subplots()"
   ]
  },
  {
   "cell_type": "markdown",
   "id": "4de740b6-5b07-4295-91b0-89c2d4bd2886",
   "metadata": {},
   "source": [
    "Cool! We successfully plotted an empty axis. Now it's time to put some data onto there. Let's start by generating some data by hand."
   ]
  },
  {
   "cell_type": "markdown",
   "id": "510afbf6-82d3-4deb-90a1-4c2e81533eee",
   "metadata": {},
   "source": [
    "### *Adding Data*"
   ]
  },
  {
   "cell_type": "code",
   "execution_count": null,
   "id": "f9a11b06-3740-4a70-ba04-c5fe2f5ded64",
   "metadata": {},
   "outputs": [],
   "source": [
    "# create our x-axis elements\n",
    "xs = np.array([0,1,2,3,4,5])\n",
    "\n",
    "# I can just copy the x array into ys for a simple y=x line\n",
    "ys = np.copy(xs)"
   ]
  },
  {
   "cell_type": "code",
   "execution_count": null,
   "id": "6b21aa4c-9598-4249-8b4f-54f9762558a3",
   "metadata": {},
   "outputs": [],
   "source": [
    "# we can plot by simply calling ax.plot() and passing the function our arguments, the x and y coordinates of our data\n",
    "ax.plot(xs, ys)\n",
    "\n",
    "# this shows the plot (or figure)\n",
    "fig"
   ]
  },
  {
   "cell_type": "markdown",
   "id": "2ea55bf7-05a8-4933-87a8-4cdd198f66ac",
   "metadata": {},
   "source": [
    "### *Adding Multiple Lines*"
   ]
  },
  {
   "cell_type": "code",
   "execution_count": null,
   "id": "626bbc44-607c-4d3c-ad10-6513e4ec054b",
   "metadata": {},
   "outputs": [],
   "source": [
    "# we can plot multiple lines on one plot\n",
    "\n",
    "fig, ax = plt.subplots()\n",
    "\n",
    "ax.plot(xs, ys)\n",
    "ax.plot(xs, 2*ys)\n",
    "ax.plot(xs, 3*ys)\n"
   ]
  },
  {
   "cell_type": "markdown",
   "id": "47864abe-ed4c-4560-8cf2-b6810153e098",
   "metadata": {},
   "source": [
    "### *Challenges*"
   ]
  },
  {
   "cell_type": "markdown",
   "id": "d8b12b85-776f-4e76-a6eb-0c569876c173",
   "metadata": {},
   "source": [
    "Have a go at plotting your own graphs. Try some more complicated functions, quadratic, cubic, logarithmic?! The options are endless. "
   ]
  },
  {
   "cell_type": "code",
   "execution_count": null,
   "id": "727b61f9-b909-44a1-8e36-4f0bb9afe8ec",
   "metadata": {},
   "outputs": [],
   "source": [
    "fig, ax = plt.subplots()\n",
    "\n",
    "\"\"\" YOUR CODE HERE \"\"\""
   ]
  },
  {
   "cell_type": "markdown",
   "id": "3c513852-dff5-48c3-a3dc-cda9d61d3df0",
   "metadata": {},
   "source": [
    "## <font size=5><u>Adding Text to Plots"
   ]
  },
  {
   "cell_type": "markdown",
   "id": "be8991f0-ac66-49ac-9fc7-d544b74699d3",
   "metadata": {},
   "source": [
    "Lines on graphs are great, but totally meaningless without a good way of describing what's being plotted. We can add text in many ways."
   ]
  },
  {
   "cell_type": "code",
   "execution_count": null,
   "id": "54247bf3-b8cc-4952-95a5-20f9f496c1ab",
   "metadata": {},
   "outputs": [],
   "source": [
    "# using previous code (you'll get to use yours later)\n",
    "\n",
    "fig, ax = plt.subplots()\n",
    "\n",
    "ax.plot(xs, ys)\n",
    "ax.plot(xs, 2*ys)\n",
    "ax.plot(xs, 3*ys)\n"
   ]
  },
  {
   "cell_type": "markdown",
   "id": "a925d670-b4b5-464c-b4d5-df68259faa6f",
   "metadata": {},
   "source": [
    "### *Title & Axes Labels*"
   ]
  },
  {
   "cell_type": "markdown",
   "id": "c261965b-fe6d-4d9f-83be-2bec042efda6",
   "metadata": {},
   "source": [
    "Functions used to set labels, titles or other properties of our figure have the form `set_thing()`. See examples below:"
   ]
  },
  {
   "cell_type": "code",
   "execution_count": null,
   "id": "b29f76ec-9f69-4117-9cfd-04db9835a72a",
   "metadata": {},
   "outputs": [],
   "source": [
    "# we can give our data some fake labels\n",
    "\n",
    "ax.set_title(\"Spaceship Velocities\")\n",
    "\n",
    "ax.set_ylabel(\"Velocity [m/s]\")\n",
    "ax.set_xlabel(\"Time [s]\")\n",
    "\n",
    "# doing this to show the figure after running this cell\n",
    "fig"
   ]
  },
  {
   "cell_type": "markdown",
   "id": "4af6f6bb-616d-4038-8a5c-21879c066050",
   "metadata": {},
   "source": [
    "### *Labels and Legends*"
   ]
  },
  {
   "cell_type": "markdown",
   "id": "34f3708a-3f43-40bd-879b-e774b026a036",
   "metadata": {},
   "source": [
    "But, which spaceship is which? We can add labels when plotting our lines and include a legend."
   ]
  },
  {
   "cell_type": "code",
   "execution_count": null,
   "id": "5c203dce-2c7f-484d-90f7-80ee17577a4b",
   "metadata": {},
   "outputs": [],
   "source": [
    "fig, ax = plt.subplots()\n",
    "\n",
    "ax.plot(xs, ys, label = 'Elon')\n",
    "ax.plot(xs, 2*ys, label = 'Jeff')\n",
    "ax.plot(xs, 3*ys, label = 'NASA')\n",
    "\n",
    "\n",
    "ax.set_title(\"Spaceship Velocities\")\n",
    "\n",
    "ax.set_ylabel(\"Velocity [m/s]\")\n",
    "ax.set_xlabel(\"Time [s]\")\n",
    "\n",
    "ax.legend()"
   ]
  },
  {
   "cell_type": "markdown",
   "id": "3f8eca07-6194-4160-b7db-c69b371c284a",
   "metadata": {},
   "source": [
    "## Colors and Style"
   ]
  },
  {
   "cell_type": "markdown",
   "id": "7c5d7124-6487-47fe-b738-ce272e7493e2",
   "metadata": {},
   "source": [
    "We can even choose our line colors and line styles (dotted, dashed, solid etc.)"
   ]
  },
  {
   "cell_type": "code",
   "execution_count": null,
   "id": "dac6bdf0-d117-4080-994d-ae9cfbf839b1",
   "metadata": {},
   "outputs": [],
   "source": [
    "fig, ax = plt.subplots()\n",
    "\n",
    "ax.plot(xs, ys, color = 'red', label = 'Elon', linestyle = 'dotted')\n",
    "ax.plot(xs, 2*ys, color = 'blue', label = 'Jeff', linestyle = '--')\n",
    "ax.plot(xs, 3*ys, color = 'pink', label = 'NASA', linestyle = '-')\n",
    "\n",
    "\n",
    "ax.set_title(\"Spaceship Velocities\")\n",
    "\n",
    "ax.set_ylabel(\"Velocity [m/s]\")\n",
    "ax.set_xlabel(\"Time [s]\")\n",
    "\n",
    "ax.legend(frameon=False)"
   ]
  },
  {
   "cell_type": "markdown",
   "id": "9fd86e38-14bb-4d57-a3cf-a797460c8c91",
   "metadata": {},
   "source": [
    "### *Other Plotting Options*"
   ]
  },
  {
   "cell_type": "markdown",
   "id": "f952daab-a934-44c5-b04b-de83bda24242",
   "metadata": {},
   "source": [
    "There are SO many options you can add to your plots. You can investigate some of them here:\n",
    "- [Plotting Arguments](https://matplotlib.org/stable/api/_as_gen/matplotlib.pyplot.plot.html)\n",
    "- [Colors](https://matplotlib.org/stable/gallery/color/named_colors.html)\n",
    "- [Linestyles](https://matplotlib.org/stable/gallery/lines_bars_and_markers/linestyles.html)\n",
    "\n",
    "Let's look at the first one together."
   ]
  },
  {
   "cell_type": "code",
   "execution_count": null,
   "id": "6f0b5bf1-1cb5-4a82-988d-b5c44b6dcd9c",
   "metadata": {
    "tags": []
   },
   "outputs": [],
   "source": [
    "help(plt.plot)"
   ]
  },
  {
   "cell_type": "markdown",
   "id": "6d141139-ab7b-4794-92b3-eda78ba45f8b",
   "metadata": {},
   "source": [
    "---\n",
    "# Generating Data"
   ]
  },
  {
   "cell_type": "markdown",
   "id": "4cbcb568-040c-4cf0-9d34-c42fbb642676",
   "metadata": {},
   "source": [
    "Typing in our data manually every time is **not** a good idea. Good thing there are ways around this. \n",
    "\n",
    "In this first example, let's say that we want an array with numbers between 0 and 10 with spacing of 0.5. There are two great `Numpy` functions for this:"
   ]
  },
  {
   "cell_type": "code",
   "execution_count": null,
   "id": "0375c546-49bf-4c4b-ba55-818bea76a40c",
   "metadata": {},
   "outputs": [],
   "source": [
    "# importing the package so we have access to it\n",
    "import numpy as np"
   ]
  },
  {
   "cell_type": "markdown",
   "id": "9f285289-31da-4af1-a257-553d44774ac7",
   "metadata": {},
   "source": [
    "### [numpy.arange](https://numpy.org/doc/stable/reference/generated/numpy.arange.html)\n",
    "takes at least three *arguments* from you:\n",
    "1. `a`: beginning of your range,\n",
    "2. `b`: end of your range,\n",
    "3. `step`: step size,\n",
    "\n",
    "and returns:\n",
    "1. an array with elements starting at `a`, ending at `b`, with intervals of `step` inbetween"
   ]
  },
  {
   "cell_type": "code",
   "execution_count": null,
   "id": "43f21663-a341-4718-a8a0-074ea5044806",
   "metadata": {},
   "outputs": [],
   "source": [
    "# using the arange function from the numpy library\n",
    "array1 = np.arange(0, 10, 0.5)\n",
    "\n",
    "print(array1)"
   ]
  },
  {
   "cell_type": "markdown",
   "id": "6b2e8209-ba5e-4760-ab3d-a8cd2435cf23",
   "metadata": {},
   "source": [
    "### [numpy.linspace](https://numpy.org/doc/stable/reference/generated/numpy.linspace.html) \n",
    "\n",
    "takes at least three *arguments* from you:\n",
    "1. `a`: beginning of your range,\n",
    "2. `b`: end of your range,\n",
    "3. `num`: number of elements in your final array,\n",
    "\n",
    "and returns:\n",
    "1. an array with elements starting at `a` and ending at `b` with a total of `num` elements."
   ]
  },
  {
   "cell_type": "code",
   "execution_count": null,
   "id": "67adf0c8-7551-4b03-81d4-5d6f3425a86e",
   "metadata": {},
   "outputs": [],
   "source": [
    "array2 = np.linspace(0, 10, 21)\n",
    "print(array2)"
   ]
  },
  {
   "cell_type": "markdown",
   "id": "7d6a524f-f24b-42fe-86ff-46bc12bc99ec",
   "metadata": {},
   "source": [
    "### Difference Between Them"
   ]
  },
  {
   "cell_type": "markdown",
   "id": "ad2c443a-78f9-4bf2-a13f-c8bbf6283ef4",
   "metadata": {},
   "source": [
    "If you look carefully at the two outputs, what do you notice in terms of difference between them?"
   ]
  },
  {
   "cell_type": "code",
   "execution_count": null,
   "id": "acb0e406-deb1-451c-b0ad-7b9e336e0bc4",
   "metadata": {},
   "outputs": [],
   "source": [
    "print(\"numpy.arange: \\n\", array1)\n",
    "\n",
    "print(\"numpy.linspace: \\n\", array2)"
   ]
  },
  {
   "cell_type": "markdown",
   "id": "a5409014-4820-49a2-adab-ddcb7d8ef3b7",
   "metadata": {},
   "source": [
    "### *Challenge*"
   ]
  },
  {
   "cell_type": "markdown",
   "id": "3d7ff1ca-084e-4c80-a7fe-293c6bf4a62c",
   "metadata": {},
   "source": [
    "To really understand the behavior of the two functions above, let's see if you can use them interchangeably. In the first cell, I give you all the arguments for numpy.arange and ask you to produce the same array using linspace using only the original arguments. In the second cell, you have the opposite:"
   ]
  },
  {
   "cell_type": "markdown",
   "id": "afa49d1a-3965-476e-aafa-b62189362759",
   "metadata": {},
   "source": [
    "#### <u>np.arange --> np.linspace</u>"
   ]
  },
  {
   "cell_type": "code",
   "execution_count": null,
   "id": "c0d4692f-7234-4d99-b089-47f5e924dcf8",
   "metadata": {},
   "outputs": [],
   "source": [
    "a = 3\n",
    "b = 5\n",
    "step = 0.2\n",
    "\n",
    "array1 = np.arange(a, b, step)\n",
    "print(array1)"
   ]
  },
  {
   "cell_type": "code",
   "execution_count": null,
   "id": "055a1506-a467-4c9e-ab88-a0350ce89fec",
   "metadata": {},
   "outputs": [],
   "source": [
    "# remember, you can only use the given variables!!!\n",
    "\n",
    "array2 = np.linspace(\"\"\" YOUR CODE HERE \"\"\")\n",
    "\n",
    "print(array2)\n"
   ]
  },
  {
   "cell_type": "markdown",
   "id": "013e5216-3a1f-4b8a-9821-fb32c25b49dd",
   "metadata": {},
   "source": [
    "#### <u>np.linspace --> np.arange</u>"
   ]
  },
  {
   "cell_type": "code",
   "execution_count": null,
   "id": "82468e6c-b584-4b56-a8d1-a2b3071c7d9d",
   "metadata": {},
   "outputs": [],
   "source": [
    "a = 10\n",
    "b = 5\n",
    "num = 11 \n",
    "\n",
    "array1 = np.linspace(a, b, num)\n",
    "print(array1)"
   ]
  },
  {
   "cell_type": "code",
   "execution_count": null,
   "id": "be508d1a-90cd-4e89-9c47-c1657f769ee3",
   "metadata": {},
   "outputs": [],
   "source": [
    "\"\"\" YOUR CODE HERE \"\"\""
   ]
  },
  {
   "cell_type": "markdown",
   "id": "73e8d84c-5e3f-4de7-b49f-41016b0b0e62",
   "metadata": {},
   "source": [
    "---\n",
    "# <u>End of Day Challenge"
   ]
  },
  {
   "cell_type": "markdown",
   "id": "5b9e9853-389d-4897-a8dd-49fae4248640",
   "metadata": {},
   "source": [
    "This challenge will combine everything we have learnt today:\n",
    "- Generating data in arrays,\n",
    "- Using numpy math functions and constants,\n",
    "- Plotting a nice looking graph for it all!"
   ]
  },
  {
   "cell_type": "markdown",
   "id": "2c851099-6de9-4987-95a5-e88cfc63b03e",
   "metadata": {},
   "source": [
    "**Plot three trig functions:**\n",
    "1. sine\n",
    "2. cosine\n",
    "3. sum of the two\n",
    "\n",
    "***Here are the steps you might consider:***\n",
    "1. Generate values for the x-axis (call it time)\n",
    "2. Use `Numpy` to calculate the trig functions\n",
    "3. Plot the functions with `Matplotlib` and add labels, a legend and line styles"
   ]
  },
  {
   "cell_type": "code",
   "execution_count": null,
   "id": "3325397c-e1bd-4270-ac41-374397abb1fa",
   "metadata": {},
   "outputs": [],
   "source": [
    "\"\"\" YOUR CODE HERE \"\"\""
   ]
  }
 ],
 "metadata": {
  "kernelspec": {
   "display_name": "Python 3 (ipykernel)",
   "language": "python",
   "name": "python3"
  },
  "language_info": {
   "codemirror_mode": {
    "name": "ipython",
    "version": 3
   },
   "file_extension": ".py",
   "mimetype": "text/x-python",
   "name": "python",
   "nbconvert_exporter": "python",
   "pygments_lexer": "ipython3",
   "version": "3.9.1"
  }
 },
 "nbformat": 4,
 "nbformat_minor": 5
}
