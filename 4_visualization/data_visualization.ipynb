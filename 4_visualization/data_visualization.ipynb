{
 "cells": [
  {
   "cell_type": "markdown",
   "id": "09f2fc30",
   "metadata": {},
   "source": [
    "Author: `Vikram Manikantan` \\\n",
    "Email: <vik@arizona.edu>"
   ]
  },
  {
   "cell_type": "markdown",
   "id": "d0c55ec0",
   "metadata": {},
   "source": [
    "### *Daily Reminder:*\n",
    "\n",
    "1. You are *not* supposed to know and understand everything. \n",
    "\n",
    "2. These notebooks are dense and are deisgned to be a resource for you as you learn to code.\n",
    "\n",
    "3. Most importantly, have fun!"
   ]
  },
  {
   "cell_type": "markdown",
   "id": "c879ec7b",
   "metadata": {},
   "source": [
    "# <font size=7> <u> *Data Visualization*\n",
    "\n",
    "**Using `numpy` and `matplotlib`**"
   ]
  },
  {
   "cell_type": "markdown",
   "id": "d0cffc6e",
   "metadata": {},
   "source": [
    "### *Contents*\n",
    "\n",
    "1. What are `numpy` and `matplotlib`?\n",
    "2. Basic `numpy` functions and array calls:\\\n",
    "    a. trigonometric functions, exponential, logarithm, etc.\\\n",
    "    b. declaring arrays: from scratch, using linspace, logspace, \n",
    "    c. side note: show `numpy` documentation\n",
    "3. Plotting (with default trig, log, etc. functions)\n",
    "4. Using figure and axes objects to plot\n",
    "\n",
    "---"
   ]
  },
  {
   "cell_type": "code",
   "execution_count": null,
   "id": "0fb157e5",
   "metadata": {},
   "outputs": [],
   "source": [
    "import numpy\n",
    "import matplotlib"
   ]
  },
  {
   "cell_type": "markdown",
   "id": "ae412a0f",
   "metadata": {},
   "source": [
    "## What are `Numpy` and `Matplotlib`?"
   ]
  },
  {
   "cell_type": "markdown",
   "id": "9c0c9d38",
   "metadata": {},
   "source": []
  },
  {
   "cell_type": "markdown",
   "id": "0b2a0d32",
   "metadata": {},
   "source": [
    "## Basic Numpy Functions"
   ]
  },
  {
   "cell_type": "markdown",
   "id": "88b02088",
   "metadata": {},
   "source": []
  }
 ],
 "metadata": {
  "kernelspec": {
   "display_name": "Python 3 (ipykernel)",
   "language": "python",
   "name": "python3"
  },
  "language_info": {
   "codemirror_mode": {
    "name": "ipython",
    "version": 3
   },
   "file_extension": ".py",
   "mimetype": "text/x-python",
   "name": "python",
   "nbconvert_exporter": "python",
   "pygments_lexer": "ipython3",
   "version": "3.9.13"
  }
 },
 "nbformat": 4,
 "nbformat_minor": 5
}
