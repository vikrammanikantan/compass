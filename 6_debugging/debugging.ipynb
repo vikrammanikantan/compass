{
 "cells": [
  {
   "cell_type": "markdown",
   "id": "c1e3edf2",
   "metadata": {},
   "source": [
    "Author: `Vikram Manikantan` \\\n",
    "Email: <vik@arizona.edu>"
   ]
  },
  {
   "cell_type": "markdown",
   "id": "d5c60ab7",
   "metadata": {},
   "source": [
    "### *Daily Reminder:*\n",
    "\n",
    "1. You are *not* supposed to know and understand everything. \n",
    "\n",
    "2. These notebooks are dense and are deisgned to be a long term resource for you.\n",
    "\n",
    "3. Most importantly, have fun!"
   ]
  },
  {
   "cell_type": "markdown",
   "id": "9a75806c",
   "metadata": {},
   "source": [
    "# <font size=7> <u> *Debugging Dojo!*"
   ]
  },
  {
   "cell_type": "code",
   "execution_count": 1,
   "id": "d47c705d",
   "metadata": {},
   "outputs": [
    {
     "ename": "NameError",
     "evalue": "name 'a' is not defined",
     "output_type": "error",
     "traceback": [
      "\u001b[0;31m---------------------------------------------------------------------------\u001b[0m",
      "\u001b[0;31mNameError\u001b[0m                                 Traceback (most recent call last)",
      "Cell \u001b[0;32mIn [1], line 1\u001b[0m\n\u001b[0;32m----> 1\u001b[0m \u001b[38;5;28mprint\u001b[39m(\u001b[43ma\u001b[49m)\n",
      "\u001b[0;31mNameError\u001b[0m: name 'a' is not defined"
     ]
    }
   ],
   "source": [
    "print(a)"
   ]
  },
  {
   "cell_type": "code",
   "execution_count": 1,
   "id": "38853873-0ec0-4eed-b463-7ef07584568b",
   "metadata": {},
   "outputs": [
    {
     "ename": "SyntaxError",
     "evalue": "unterminated string literal (detected at line 1) (410663758.py, line 1)",
     "output_type": "error",
     "traceback": [
      "\u001b[0;36m  Cell \u001b[0;32mIn[1], line 1\u001b[0;36m\u001b[0m\n\u001b[0;31m    print(\"Hello world!)\u001b[0m\n\u001b[0m          ^\u001b[0m\n\u001b[0;31mSyntaxError\u001b[0m\u001b[0;31m:\u001b[0m unterminated string literal (detected at line 1)\n"
     ]
    }
   ],
   "source": [
    "print(\"Hello world!)"
   ]
  },
  {
   "cell_type": "code",
   "execution_count": 2,
   "id": "3f8fbe31",
   "metadata": {},
   "outputs": [
    {
     "ename": "IndentationError",
     "evalue": "expected an indented block after 'for' statement on line 1 (3979827255.py, line 2)",
     "output_type": "error",
     "traceback": [
      "\u001b[0;36m  Cell \u001b[0;32mIn[2], line 2\u001b[0;36m\u001b[0m\n\u001b[0;31m    print(i)\u001b[0m\n\u001b[0m    ^\u001b[0m\n\u001b[0;31mIndentationError\u001b[0m\u001b[0;31m:\u001b[0m expected an indented block after 'for' statement on line 1\n"
     ]
    }
   ],
   "source": [
    "for i in range(10):\n",
    "print(i)"
   ]
  },
  {
   "cell_type": "code",
   "execution_count": 3,
   "id": "3c725899",
   "metadata": {},
   "outputs": [
    {
     "ename": "SyntaxError",
     "evalue": "invalid syntax. Perhaps you forgot a comma? (723878668.py, line 3)",
     "output_type": "error",
     "traceback": [
      "\u001b[0;36m  Cell \u001b[0;32mIn[3], line 3\u001b[0;36m\u001b[0m\n\u001b[0;31m    print(\"sin(x) = \" y)\u001b[0m\n\u001b[0m          ^\u001b[0m\n\u001b[0;31mSyntaxError\u001b[0m\u001b[0;31m:\u001b[0m invalid syntax. Perhaps you forgot a comma?\n"
     ]
    }
   ],
   "source": [
    "x = 3.4\n",
    "y = np.sin(x)\n",
    "print(\"sin(x) = \" y)"
   ]
  },
  {
   "cell_type": "code",
   "execution_count": 4,
   "id": "6511e2df",
   "metadata": {},
   "outputs": [
    {
     "ename": "SyntaxError",
     "evalue": "invalid syntax (2656930036.py, line 7)",
     "output_type": "error",
     "traceback": [
      "\u001b[0;36m  Cell \u001b[0;32mIn[4], line 7\u001b[0;36m\u001b[0m\n\u001b[0;31m    if value > = len(alphabet):\u001b[0m\n\u001b[0m               ^\u001b[0m\n\u001b[0;31mSyntaxError\u001b[0m\u001b[0;31m:\u001b[0m invalid syntax\n"
     ]
    }
   ],
   "source": [
    "import string\n",
    "alphabet = string.ascii_uppercase\n",
    "\n",
    "value : 35\n",
    "index = value%26\n",
    "\n",
    "if value > = len(alphabet):\n",
    "  print(\"The letter at index {0} ({1}) is '{2}'.\".format(value, index, alphabet[index]))\n",
    "else:\n",
    "  print(\"The letter at index {0} is '{1}'.\"format(index, alphabet[index]))"
   ]
  },
  {
   "cell_type": "code",
   "execution_count": 5,
   "id": "f30630f8",
   "metadata": {},
   "outputs": [
    {
     "ename": "SyntaxError",
     "evalue": "unterminated string literal (detected at line 1) (1587944124.py, line 1)",
     "output_type": "error",
     "traceback": [
      "\u001b[0;36m  Cell \u001b[0;32mIn[5], line 1\u001b[0;36m\u001b[0m\n\u001b[0;31m    password = \"Test phrase here\"\"\u001b[0m\n\u001b[0m                                 ^\u001b[0m\n\u001b[0;31mSyntaxError\u001b[0m\u001b[0;31m:\u001b[0m unterminated string literal (detected at line 1)\n"
     ]
    }
   ],
   "source": [
    "password = \"Test phrase here\"\"\n",
    "if greeting in [\"Arrr!\"):\n",
    "\tprint(\"Go away, pirate.\")\n",
    "elif\n",
    "print(\"Greetings!\")"
   ]
  },
  {
   "cell_type": "code",
   "execution_count": 6,
   "id": "55d48cad",
   "metadata": {},
   "outputs": [
    {
     "ename": "SyntaxError",
     "evalue": "invalid syntax (1180858189.py, line 7)",
     "output_type": "error",
     "traceback": [
      "\u001b[0;36m  Cell \u001b[0;32mIn[6], line 7\u001b[0;36m\u001b[0m\n\u001b[0;31m    for author date in authors.items{}:\u001b[0m\n\u001b[0m    ^\u001b[0m\n\u001b[0;31mSyntaxError\u001b[0m\u001b[0;31m:\u001b[0m invalid syntax\n"
     ]
    }
   ],
   "source": [
    "authrs = {\n",
    "    \"Charles Dickens\": \"1870\",\n",
    "    \"William Thackeray\": \"1863\",\n",
    "    \"Anthony Trollope\": \"1882\",\n",
    "    \"Gerard Manley Hopkins\": \"1889\"\n",
    "\n",
    "for author date in authors.items{}:\n",
    "    print \"%s\" % authors + \" died in \" + \"%d.\" % Date\n",
    "}"
   ]
  },
  {
   "cell_type": "code",
   "execution_count": 7,
   "id": "5b5abf19",
   "metadata": {},
   "outputs": [
    {
     "ename": "SyntaxError",
     "evalue": "unterminated string literal (detected at line 4) (855098443.py, line 4)",
     "output_type": "error",
     "traceback": [
      "\u001b[0;36m  Cell \u001b[0;32mIn[7], line 4\u001b[0;36m\u001b[0m\n\u001b[0;31m    print ('Woah, that's the past!')\u001b[0m\n\u001b[0m                                  ^\u001b[0m\n\u001b[0;31mSyntaxError\u001b[0m\u001b[0;31m:\u001b[0m unterminated string literal (detected at line 4)\n"
     ]
    }
   ],
   "source": [
    "year == 1899\n",
    "\n",
    "if year <= 1900\n",
    "    print ('Woah, that's the past!')\n",
    "elif year > 1900 && year < 2020:\n",
    "    print (\"That's totally the present!\")\n",
    "elif:\n",
    "    print (\"Far out, that's the future!!\")"
   ]
  },
  {
   "cell_type": "code",
   "execution_count": 8,
   "id": "d716c49a",
   "metadata": {},
   "outputs": [
    {
     "ename": "SyntaxError",
     "evalue": "unmatched ')' (1866799916.py, line 26)",
     "output_type": "error",
     "traceback": [
      "\u001b[0;36m  Cell \u001b[0;32mIn[8], line 26\u001b[0;36m\u001b[0m\n\u001b[0;31m    exam_two = input(\"Input exam grade two: \"))\u001b[0m\n\u001b[0m                                              ^\u001b[0m\n\u001b[0;31mSyntaxError\u001b[0m\u001b[0;31m:\u001b[0m unmatched ')'\n"
     ]
    }
   ],
   "source": [
    "# The following code is supposed to average 3 numeric exam grades,\n",
    "# return an average test score, a corresponding letter grade,\n",
    "# and a message stating whether the student is passing.\n",
    "\n",
    "# As usual, fix the issue!\n",
    "\n",
    "# Average\tGrade\n",
    "# 90+\tA\n",
    "# 80-89\tB\n",
    "# 70-79\tC\n",
    "# 60-69\tD\n",
    "# 0-59\tF\n",
    "\n",
    "# Exams: 89, 90, 90\n",
    "# Average: 90\n",
    "# Grade: A\n",
    "# Student is passing.\n",
    "\n",
    "# Exams: 50, 51, 0\n",
    "# Average: 33\n",
    "# Grade: F\n",
    "# Student iis failing.\n",
    "\n",
    "exam_one = int(input(\"Input exam grade one: \"))\n",
    "\n",
    "exam_two = input(\"Input exam grade two: \"))\n",
    "\n",
    "exam_3 = str(input(\"Input exam grade three: \"))\n",
    "\n",
    "grades = [exam_one exam_two exam_three]\n",
    "sum = 0\n",
    "for grade in grade:\n",
    "  sum = sum + grade\n",
    "\n",
    "avg = sum / len(grdes)\n",
    "\n",
    "if avg >= 90:\n",
    "    letter_grade = \"A\"\n",
    "elif avg >= 80 and avg < 90\n",
    "    letter_grade = \"B\"\n",
    "elif avg > 69 and avg < 80:\n",
    "    letter_grade = \"C'\n",
    "elif avg <= 69 and avg >= 65:\n",
    "    letter_grade = \"D\"\n",
    "elif:\n",
    "    letter_grade = \"F\"\n",
    "\n",
    "for grade in grades:\n",
    "    print(\"Exam: \" + str(grade))\n",
    "\n",
    "    print(\"Average: \" + str(avg))\n",
    "\n",
    "    print(\"Grade: \" + letter_grade)\n",
    "\n",
    "if letter-grade is \"F\":\n",
    "    print \"Student is failing.\"\n",
    "else:\n",
    "    print \"Student is passing.\""
   ]
  },
  {
   "cell_type": "code",
   "execution_count": null,
   "id": "a4849688",
   "metadata": {},
   "outputs": [],
   "source": []
  }
 ],
 "metadata": {
  "kernelspec": {
   "display_name": "Python 3 (ipykernel)",
   "language": "python",
   "name": "python3"
  },
  "language_info": {
   "codemirror_mode": {
    "name": "ipython",
    "version": 3
   },
   "file_extension": ".py",
   "mimetype": "text/x-python",
   "name": "python",
   "nbconvert_exporter": "python",
   "pygments_lexer": "ipython3",
   "version": "3.10.11"
  }
 },
 "nbformat": 4,
 "nbformat_minor": 5
}
