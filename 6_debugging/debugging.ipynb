{
 "cells": [
  {
   "cell_type": "markdown",
   "id": "c1e3edf2",
   "metadata": {},
   "source": [
    "Author: `Vikram Manikantan` \\\n",
    "Email: <vik@arizona.edu>"
   ]
  },
  {
   "cell_type": "markdown",
   "id": "d5c60ab7",
   "metadata": {},
   "source": [
    "### *Daily Reminder:*\n",
    "\n",
    "1. You are *not* supposed to know and understand everything. \n",
    "\n",
    "2. These notebooks are dense and are deisgned to be a long term resource for you.\n",
    "\n",
    "3. Most importantly, have fun!"
   ]
  },
  {
   "cell_type": "markdown",
   "id": "9a75806c",
   "metadata": {},
   "source": [
    "# <font size=7> <u> *Debugging*"
   ]
  },
  {
   "cell_type": "markdown",
   "id": "babb2cc1",
   "metadata": {},
   "source": [
    "### *Contents*\n",
    "\n",
    "1. Understanding Errors\n",
    "2. Using Stack Overflow\n",
    "3. Debugging with Print Statements\n",
    "4. Advanced Debugging\n",
    "\n",
    "---"
   ]
  },
  {
   "cell_type": "code",
   "execution_count": null,
   "id": "d47c705d",
   "metadata": {},
   "outputs": [],
   "source": []
  }
 ],
 "metadata": {
  "kernelspec": {
   "display_name": "Python 3 (ipykernel)",
   "language": "python",
   "name": "python3"
  },
  "language_info": {
   "codemirror_mode": {
    "name": "ipython",
    "version": 3
   },
   "file_extension": ".py",
   "mimetype": "text/x-python",
   "name": "python",
   "nbconvert_exporter": "python",
   "pygments_lexer": "ipython3",
   "version": "3.9.1"
  }
 },
 "nbformat": 4,
 "nbformat_minor": 5
}
