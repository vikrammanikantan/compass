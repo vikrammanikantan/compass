{
 "cells": [
  {
   "cell_type": "markdown",
   "id": "09f2fc30",
   "metadata": {},
   "source": [
    "Author: `Vikram Manikantan` \\\n",
    "Email: <vik@arizona.edu>"
   ]
  },
  {
   "cell_type": "markdown",
   "id": "d0c55ec0",
   "metadata": {},
   "source": [
    "### *Daily Reminder:*\n",
    "\n",
    "1. You are *not* supposed to know and understand everything. \n",
    "\n",
    "2. These notebooks are dense and are deisgned to be a resource for you as you learn to code.\n",
    "\n",
    "3. Most importantly, have fun!"
   ]
  },
  {
   "cell_type": "markdown",
   "id": "c879ec7b",
   "metadata": {},
   "source": [
    "# <font size=7> <u> *Data Visualization*\n",
    "\n",
    "**Using `numpy` and `matplotlib`**"
   ]
  },
  {
   "cell_type": "markdown",
   "id": "d0cffc6e",
   "metadata": {},
   "source": [
    "### *Contents*\n",
    "\n",
    "1. What are `numpy` and `matplotlib`?\n",
    "2. Basic `numpy` functions and array calls:\\\n",
    "    a. trigonometric functions, exponential, logarithm, etc.\\\n",
    "    b. declaring arrays: from scratch, using linspace, logspace, \n",
    "    c. side note: show `numpy` documentation\n",
    "3. Plotting (with default trig, log, etc. functions)\n",
    "4. Using figure and axes objects to plot\n",
    "\n",
    "---"
   ]
  },
  {
   "cell_type": "code",
   "execution_count": null,
   "id": "0fb157e5",
   "metadata": {},
   "outputs": [],
   "source": [
    "import numpy\n",
    "import matplotlib"
   ]
  },
  {
   "cell_type": "markdown",
   "id": "ae412a0f",
   "metadata": {},
   "source": [
    "## What are `Numpy` and `Matplotlib`?"
   ]
  },
  {
   "cell_type": "markdown",
   "id": "9c0c9d38",
   "metadata": {},
   "source": [
    "`Numpy` and `Matplotlib` are python packages. A python package is a library of code written by somebody else that will make your life easier (usually). \n",
    "\n",
    "In this case, Numpy (pronounced num-pie) is a package that provides support for large arrays and high level mathematical functions (amongst other things).\n",
    "\n",
    "Matplotlib, as you might have deduced from its name, is a library for data visualization with *lots* of functionality."
   ]
  },
  {
   "cell_type": "code",
   "execution_count": 4,
   "id": "3733dc45-2673-4397-ba4b-f362e6fc0bee",
   "metadata": {},
   "outputs": [],
   "source": [
    "# to be able to use these functions, we have to use the code below.\n",
    "\n",
    "import numpy as np\n",
    "import matplotlib.pyplot as plt"
   ]
  },
  {
   "cell_type": "markdown",
   "id": "f3bb6c11-8315-4fee-8243-40f149417a7e",
   "metadata": {},
   "source": [
    "1. `import` is the keyword used to tell your code that you are using a package.\n",
    "2. then comes the name of the package\n",
    "3. `as` allows you to rename your package, meaning you don't have to type the whole package name everytime\n",
    "4. then comes the new name you want to give it (temporarily)\n",
    "\n"
   ]
  },
  {
   "cell_type": "markdown",
   "id": "0b2a0d32",
   "metadata": {},
   "source": [
    "# Numpy"
   ]
  },
  {
   "cell_type": "markdown",
   "id": "88b02088",
   "metadata": {},
   "source": [
    "Let's start with some basic functions. You can find a full [guide here](https://numpy.org/doc/stable/user/absolute_beginners.html)."
   ]
  },
  {
   "cell_type": "code",
   "execution_count": null,
   "id": "b31e3245-f1e8-422a-89ad-bdb9f356e638",
   "metadata": {},
   "outputs": [],
   "source": [
    "# we also have the basic math functions\n",
    "\n",
    "sin1 = np.sin(3.1415)\n",
    "\n",
    "print(\"sin(π)=\", sin1)"
   ]
  },
  {
   "cell_type": "code",
   "execution_count": null,
   "id": "880a096f-99ee-4ef9-b1ae-697444f6b584",
   "metadata": {},
   "outputs": [],
   "source": [
    "# numpy also has constants\n",
    "\n",
    "pi = np.pi\n",
    "sin2 = np.sin(pi)\n",
    "cos2 = np.cos(pi)\n",
    "\n",
    "print(\"sin(π)=\", sin2)\n",
    "print(\"cos(π)=\",cos2)"
   ]
  },
  {
   "cell_type": "markdown",
   "id": "2c67b8ee-b2f0-4d2d-8a50-05d88a0114a2",
   "metadata": {},
   "source": [
    "### *Challenge*"
   ]
  },
  {
   "cell_type": "markdown",
   "id": "65a73979-65df-4771-ab1a-ddd60da32eee",
   "metadata": {},
   "source": [
    "Find a `Numpy` function and constant of your choosing and use them to calculate something.\n",
    "\n",
    "As always, it's easiest to draw from physical scenarios: is there an equation you've used in math or physics that needs a special function?"
   ]
  },
  {
   "cell_type": "code",
   "execution_count": null,
   "id": "1694b0e2-994d-4771-b705-4d63aa5c576c",
   "metadata": {},
   "outputs": [],
   "source": [
    "\"\"\" YOUR CODE HERE \"\"\""
   ]
  },
  {
   "cell_type": "markdown",
   "id": "e8b06f2b-5958-4a25-880f-2003e2161b3e",
   "metadata": {},
   "source": [
    "## Arrays vs Lists"
   ]
  },
  {
   "cell_type": "markdown",
   "id": "199d35e6-af93-42cc-8e4d-0149ffe499dd",
   "metadata": {},
   "source": [
    "Arrays are the most important concept in my experience. See below for an example:"
   ]
  },
  {
   "cell_type": "code",
   "execution_count": 5,
   "id": "71ef3d45-7b66-40ba-abeb-bc6e55ec975b",
   "metadata": {},
   "outputs": [],
   "source": [
    "# the most important function, instead of lists, we can now use\n",
    "\n",
    "arr = np.array([0,1,2,3,4])"
   ]
  },
  {
   "cell_type": "code",
   "execution_count": 6,
   "id": "9d4eaf34-ca2a-4ffb-8f30-4a22c6f1ca38",
   "metadata": {},
   "outputs": [
    {
     "name": "stdout",
     "output_type": "stream",
     "text": [
      "[0 1 2 3 4]\n",
      "0\n",
      "4\n"
     ]
    }
   ],
   "source": [
    "print(arr)\n",
    "\n",
    "print(arr[0])\n",
    "\n",
    "print(arr[-1])"
   ]
  },
  {
   "cell_type": "markdown",
   "id": "cacb5fdc-10d6-4412-a91b-975540cea1c8",
   "metadata": {},
   "source": [
    "But, everything we have done so far, we could've done with lists:"
   ]
  },
  {
   "cell_type": "code",
   "execution_count": 7,
   "id": "7506c886-ccd1-40ee-9116-f770c23274cb",
   "metadata": {},
   "outputs": [
    {
     "name": "stdout",
     "output_type": "stream",
     "text": [
      "[0, 1, 2, 3, 4]\n",
      "0\n",
      "4\n"
     ]
    }
   ],
   "source": [
    "lst = [0, 1, 2, 3, 4]\n",
    "\n",
    "print(lst)\n",
    "\n",
    "print(lst[0])\n",
    "\n",
    "print(lst[-1])"
   ]
  },
  {
   "cell_type": "markdown",
   "id": "3f47704b-e7ae-4d10-8733-2a73eeb08083",
   "metadata": {},
   "source": [
    "### *Array Arithmetic*"
   ]
  },
  {
   "cell_type": "markdown",
   "id": "3f3a23cc-234f-448a-8663-e85f033b1c91",
   "metadata": {},
   "source": [
    "Arrays are better than lists for one great reason: **array arithmetic**."
   ]
  },
  {
   "cell_type": "code",
   "execution_count": 12,
   "id": "6740a353-662d-401d-8671-4730b2580c08",
   "metadata": {},
   "outputs": [
    {
     "name": "stdout",
     "output_type": "stream",
     "text": [
      "Array Arithmetic:  [ 0  5 10 15 20]\n",
      "\n",
      "List Arithmetic:  [0, 1, 2, 3, 4, 0, 1, 2, 3, 4, 0, 1, 2, 3, 4, 0, 1, 2, 3, 4, 0, 1, 2, 3, 4]\n"
     ]
    }
   ],
   "source": [
    "print(\"Array Arithmetic: \", arr*5)\n",
    "\n",
    "print(\"\\nList Arithmetic: \", lst*5)"
   ]
  },
  {
   "cell_type": "markdown",
   "id": "7700e508-e052-435b-9422-76161d315b85",
   "metadata": {},
   "source": [
    "^^ what is even happening to the list? It's complicated."
   ]
  },
  {
   "cell_type": "code",
   "execution_count": 10,
   "id": "293af201-ea1d-4848-ae1a-7b3ded735d0c",
   "metadata": {},
   "outputs": [
    {
     "name": "stdout",
     "output_type": "stream",
     "text": [
      "Array Arithmetic:  [0.  0.2 0.4 0.6 0.8]\n"
     ]
    },
    {
     "ename": "TypeError",
     "evalue": "unsupported operand type(s) for /: 'list' and 'int'",
     "output_type": "error",
     "traceback": [
      "\u001b[0;31m---------------------------------------------------------------------------\u001b[0m",
      "\u001b[0;31mTypeError\u001b[0m                                 Traceback (most recent call last)",
      "\u001b[0;32m/tmp/ipykernel_142650/4108003297.py\u001b[0m in \u001b[0;36m<module>\u001b[0;34m\u001b[0m\n\u001b[1;32m      1\u001b[0m \u001b[0mprint\u001b[0m\u001b[0;34m(\u001b[0m\u001b[0;34m\"Array Arithmetic: \"\u001b[0m\u001b[0;34m,\u001b[0m \u001b[0marr\u001b[0m\u001b[0;34m/\u001b[0m\u001b[0;36m5\u001b[0m\u001b[0;34m)\u001b[0m\u001b[0;34m\u001b[0m\u001b[0;34m\u001b[0m\u001b[0m\n\u001b[1;32m      2\u001b[0m \u001b[0;34m\u001b[0m\u001b[0m\n\u001b[0;32m----> 3\u001b[0;31m \u001b[0mprint\u001b[0m\u001b[0;34m(\u001b[0m\u001b[0;34m\"List Arithmetic: \"\u001b[0m\u001b[0;34m,\u001b[0m \u001b[0mlst\u001b[0m\u001b[0;34m/\u001b[0m\u001b[0;36m5\u001b[0m\u001b[0;34m)\u001b[0m\u001b[0;34m\u001b[0m\u001b[0;34m\u001b[0m\u001b[0m\n\u001b[0m",
      "\u001b[0;31mTypeError\u001b[0m: unsupported operand type(s) for /: 'list' and 'int'"
     ]
    }
   ],
   "source": [
    "print(\"Array Arithmetic: \", arr/5)\n",
    "\n",
    "print(\"List Arithmetic: \", lst/5)"
   ]
  },
  {
   "cell_type": "markdown",
   "id": "f035e3e4-b66b-40ef-a185-892d356b8115",
   "metadata": {},
   "source": [
    "Arrays are clearly much more suited for our purposes than Lists. When in doubt, use arrays."
   ]
  },
  {
   "cell_type": "markdown",
   "id": "dfb85ef1-f862-4d50-aeee-2b649b2bfad9",
   "metadata": {},
   "source": [
    "## *Aside: Documentation*"
   ]
  },
  {
   "cell_type": "markdown",
   "id": "3302fe87-056b-48a4-8376-59f11e1e8a45",
   "metadata": {},
   "source": [
    "You are **not** going to remember every function. In fact, I barely remember any. Google is your best friend (with minor trust issues). \n",
    "\n",
    "If you want to look one up, just google 'Numpy + function name' and you will get some instructions on how to use it. Let's look at one together: Numpy sine."
   ]
  },
  {
   "cell_type": "code",
   "execution_count": null,
   "id": "43494d36-c2b3-40ee-879a-59e22a940b24",
   "metadata": {},
   "outputs": [],
   "source": []
  },
  {
   "cell_type": "markdown",
   "id": "f1731bf6-98ec-47f2-80db-95bc8e72185e",
   "metadata": {},
   "source": [
    "# Matplotlib"
   ]
  },
  {
   "cell_type": "markdown",
   "id": "2f20a847-83b9-4741-b270-20b14c9a1155",
   "metadata": {},
   "source": [
    "## Plotting"
   ]
  },
  {
   "cell_type": "markdown",
   "id": "75740187-dcbb-4707-bbaa-ab38b22c4ef2",
   "metadata": {},
   "source": []
  },
  {
   "cell_type": "code",
   "execution_count": null,
   "id": "f4345be0-d79e-476c-b104-2d950097b6c0",
   "metadata": {},
   "outputs": [],
   "source": []
  }
 ],
 "metadata": {
  "kernelspec": {
   "display_name": "Python 3 (ipykernel)",
   "language": "python",
   "name": "python3"
  },
  "language_info": {
   "codemirror_mode": {
    "name": "ipython",
    "version": 3
   },
   "file_extension": ".py",
   "mimetype": "text/x-python",
   "name": "python",
   "nbconvert_exporter": "python",
   "pygments_lexer": "ipython3",
   "version": "3.9.13"
  }
 },
 "nbformat": 4,
 "nbformat_minor": 5
}
